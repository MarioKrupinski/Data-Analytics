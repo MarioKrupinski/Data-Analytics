{
 "cells": [
  {
   "cell_type": "markdown",
   "metadata": {},
   "source": [
    "# Topic idea\n",
    "\n",
    "---\n",
    "\n",
    "Group name: Einzelarbeit Mario Krupinski\n",
    "\n",
    "---\n",
    "\n",
    "*Replace the italic texts with your descriptions*"
   ]
  },
  {
   "cell_type": "markdown",
   "metadata": {},
   "source": [
    "## HU-Forecast\n",
    "\n",
    "### Data source\n",
    "\n",
    "Die Daten wurden von meinem Arbeitgeber, der GTÜ (Gesellswchaft für technische Überwachung), über die letzten Jahre gesammelt. Sie werden auch fortlaufend ergänzt.\n",
    "\n",
    "\n",
    "### Data characteristics\n",
    "\n",
    "Die Daten beinhalten Informationen über die Häufigkeit von Prüfleistungen, die Prüfingenieure in verschiedenen Werkstätten in ganz Deutschland über die letzten Jahre erbracht haben. Die Daten haben eine hohe Granularität (Leistung/Tag/Prüfingenieur). GGf. Sind auch Fahrzeugdaten (Fahrzeugtyp, Alter, etc.) enthalten.\n",
    "\n",
    "\n",
    "### Research question\n",
    "\n",
    "Es soll hervorgesagt werden, wie viele Hauptuntersuchungen (HUs) in einer Werkstatt für die nächsten 30 Tage erwartet werden.\n",
    "Es werden also mit den predictor variablen (Kalenderdaten, Anzahl der Leistungen in der Vergangenheit, Fahrzeugalter, Anzahl der Neuzulassungen etc.) die response variable (Anzahl an HUs/Tag/Werkstatt) hervorgesagt.\n",
    "\n",
    "### Overview of data\n",
    "\n",
    "Wie im Kurs besprochen, habe ich leider noch kein Zugang zu den Daten. Mein Vorgesetzter klärt gerade das rechtliche ab.\n"
   ]
  }
 ],
 "metadata": {
  "kernelspec": {
   "display_name": "Python 3.9.12 ('base')",
   "language": "python",
   "name": "python3"
  },
  "language_info": {
   "name": "python",
   "version": "3.9.12"
  },
  "orig_nbformat": 4,
  "vscode": {
   "interpreter": {
    "hash": "463226f144cc21b006ce6927bfc93dd00694e52c8bc6857abb6e555b983749e9"
   }
  }
 },
 "nbformat": 4,
 "nbformat_minor": 2
}
