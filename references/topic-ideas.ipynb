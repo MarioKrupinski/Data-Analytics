{
 "cells": [
  {
   "cell_type": "markdown",
   "metadata": {},
   "source": [
    "# Topic idea\n",
    "\n",
    "---\n",
    "\n",
    "Group name: Einzelarbeit Mario Krupinski\n",
    "\n",
    "---\n"
   ]
  },
  {
   "cell_type": "markdown",
   "metadata": {},
   "source": [
    "## HU-Forecast\n",
    "\n",
    "### Data source\n",
    "\n",
    "Die Daten wurden von meinem Arbeitgeber, der GTÜ (Gesellschaft für technische Überwachung), über die letzten Jahre gesammelt. Sie werden auch fortlaufend ergänzt.\n",
    "\n",
    "\n",
    "### Data characteristics\n",
    "\n",
    "Die Daten beinhalten Informationen über die Häufigkeit von Prüfleistungen, die Prüfingenieure in verschiedenen Werkstätten in ganz Deutschland über die letzten Jahre erbracht haben. Die Daten haben eine hohe Granularität (Leistung/Tag/Prüfingenieur). GGf. Sind auch Fahrzeugdaten (Fahrzeugtyp, Alter, etc.) enthalten.\n",
    "\n",
    "\n",
    "### Research question\n",
    "\n",
    "Es soll hervorgesagt werden, wie viele Hauptuntersuchungen (HUs) in einer Werkstatt für die nächsten 30 Tage erwartet werden.\n",
    "Es werden also mit den predictor variablen (Kalenderdaten, Anzahl der Leistungen in der Vergangenheit, Fahrzeugalter, Anzahl der Neuzulassungen etc.) die response variable (Anzahl an HUs/Tag/Werkstatt) hervorgesagt.\n",
    "\n",
    "### Overview of data\n",
    "\n",
    "Wie im Kurs besprochen, habe ich leider noch kein Zugang zu den Daten. Mein Vorgesetzter klärt gerade das rechtliche ab.\n"
   ]
  },
  {
   "cell_type": "code",
   "execution_count": null,
   "metadata": {},
   "outputs": [],
   "source": [
    "# Code zum umwandeln in HTML:"
   ]
  },
  {
   "cell_type": "code",
   "execution_count": 4,
   "metadata": {},
   "outputs": [],
   "source": [
    "import nbformat\n",
    "from nbconvert import HTMLExporter\n",
    "\n",
    "# Pfad zum Jupyter Notebook\n",
    "notebook_path = r\"C:\\Users\\mario\\OneDrive\\Desktop\\Data-Analytics-Kurs\\Data-Analytics\\references\\topic-ideas.ipynb\"\n",
    "output_path = r\"C:\\Users\\mario\\OneDrive\\Desktop\\Data-Analytics-Kurs\\Data-Analytics\\references\\topic-ideas.html\"\n",
    "\n",
    "# Notebook laden\n",
    "with open(notebook_path, \"r\", encoding=\"utf-8\") as nb_file:\n",
    "    notebook_content = nbformat.read(nb_file, as_version=4)\n",
    "\n",
    "# HTML Exporter initialisieren\n",
    "html_exporter = HTMLExporter()\n",
    "\n",
    "# Notebook in HTML konvertieren\n",
    "(body, resources) = html_exporter.from_notebook_node(notebook_content)\n",
    "\n",
    "# HTML-Datei speichern\n",
    "with open(output_path, \"w\", encoding=\"utf-8\") as html_file:\n",
    "    html_file.write(body)"
   ]
  }
 ],
 "metadata": {
  "kernelspec": {
   "display_name": "analytics",
   "language": "python",
   "name": "python3"
  },
  "language_info": {
   "codemirror_mode": {
    "name": "ipython",
    "version": 3
   },
   "file_extension": ".py",
   "mimetype": "text/x-python",
   "name": "python",
   "nbconvert_exporter": "python",
   "pygments_lexer": "ipython3",
   "version": "3.12.7"
  },
  "orig_nbformat": 4
 },
 "nbformat": 4,
 "nbformat_minor": 2
}
