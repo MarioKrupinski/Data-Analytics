{
 "cells": [
  {
   "cell_type": "markdown",
   "metadata": {},
   "source": [
    "# Project proposal\n",
    "\n",
    "---\n",
    "\n",
    "Group name:Mario Krupinski (mk350)\n",
    "\n",
    "---\n"
   ]
  },
  {
   "cell_type": "markdown",
   "metadata": {},
   "source": [
    "<!-- ## Introduction\n",
    "\n",
    "The introduction section includes\n",
    "\n",
    "-   an introduction to the subject matter you're investigating\n",
    "-   the motivation for your research question (citing any relevant literature)\n",
    "-   the general research question you wish to explore\n",
    "-   your hypotheses regarding the research question of interest. --> -->"
   ]
  },
  {
   "cell_type": "markdown",
   "metadata": {},
   "source": [
    "<h3>Introduction</h3>\n",
    "\n",
    "<h4>Subject Introduction:</h4>\n",
    "Eine Hauptuntersuchung (HU) muss bei allen Fahrzeugen alle 2 bzw. 3 Jahre stattfinden.\n",
    "Somit stellt die HU eine häufig vorkommende Leistung in Werkstätten dar. In meinem Projekt möchte ich die Anzahl der\n",
    "erwarteten HUs in den nächsten 14 Tagen für verschiedene Werkstätte hervorsagen. Die Werkstätten können dudurch besser\n",
    "ihr Personal und Umsatz planen.\n",
    "\n",
    "<h4>Motivation:</h4>\n",
    "Mein Arbeitgebert (Gesellschaft für technische Überwachung (GTÜ)) entwickelt eine Software für unsere Partnerwerstätten.\n",
    "Die Software soll den Werkstattbetrieb vereinfachen. Typische Funktionen sind das einscannen von Fahrzeugpapieren, das automatische Erstellen von Rechnungen oder eine Übersicht über die erbrachten Leistungen des Tages. Die Software soll stetig mit weiteren Features ausgebaut werden, um uns von Konkurennten abzuheben und so neue Werkstätten als Partner zu gewinnen. Mein HU-Forecast ist also ein gutes Feature, um unsere Software zu verbessern und uns von der Konkurrenz abzuheben.\n",
    "Hilfreiche Quellen werden u.a. sein: Introduction to Machine Learning with Python (von Andreas Müller) und Machine Learning kompakt: Ein Einstieg für Studierende der Naturwissenschaften (essentials) (von Kenny Choo).\n",
    "\n",
    "<h4>Research Question:</h4>\n",
    "Wie viele HUs werden pro Tag pro Unterbüro (= Werkstatt) in den nächsten 14 Tagen erwartet?\n",
    "\n",
    "<h4>Hypothese:</h4>\n",
    "\n",
    "Die erwarteten HUs sind stark seasonal. Zu Jahresende und Jahresbeginn werden weniger HUs erwartet als zur Mitte des Jahres."
   ]
  },
  {
   "cell_type": "markdown",
   "metadata": {},
   "source": [
    "<!-- ## Data description\n",
    "\n",
    "In this section, you will describe the data set you wish to explore. This includes\n",
    "\n",
    "-   description of the observations in the data set,\n",
    "-   description of how the data was originally collected (not how you found the data but how the original curator of the data collected it). -->"
   ]
  },
  {
   "cell_type": "markdown",
   "metadata": {},
   "source": [
    "<h3> Data description</h3>\n",
    "\n",
    "<h4> Beschreibung eines Datenpunktes</h4>\n",
    "\n",
    "Ein Datenpunkt liefert Informationen zu jeweils einer durchgeführten HU. Darin enthalten sind Informationen zu:\n",
    "- Tag\n",
    "- Uhrzeit\n",
    "- Büro und Unterbüro (=Werkstatt)\n",
    "- Prüfingenienieur, der die HU durchgeführt hat\n",
    "- Geldmenge, die dadurch eingenommen wurde\n",
    "\n",
    "Auf Grund von Datenschutz und Speichereinsparung habe ich die ursprüngliche Datentabelle gekürzt.\n",
    "In der Tabelle, die ich nutze, sind folgende Informationen zu den durchgeführten HUs enthalten:\n",
    "- Tag\n",
    "- Büro und Unterbüro\n",
    "\n",
    "<h4> Erzeugung eines Datenpunktes </h4>\n",
    "\n",
    "Die Datenpunkte werden beim Erstellen der Rechnungen von den Prüfingenieuren in unserer Software automatisch in einer Datenbank abgespeichert."
   ]
  },
  {
   "cell_type": "markdown",
   "metadata": {},
   "source": [
    "<!-- \n",
    "## Analysis approach\n",
    "\n",
    "In this section, you will provide a brief overview of your analysis approach. This includes:\n",
    "\n",
    "-   Description of the response variable.\n",
    "-   Visualization and summary statistics for the response variable.\n",
    "-   List of variables that will be considered as predictors\n",
    "-   Your model type (what kind of model(s) will you use ... e.g. linear regression) -->"
   ]
  },
  {
   "cell_type": "markdown",
   "metadata": {},
   "source": [
    "<h3> Analyse Ansatz:\n",
    "\n",
    "<h4> Beschreibung der vorhergesagten Variable </h4>\n",
    "Die Variable, die vorhergesagt werden soll, ist die Anzahl der HUs pro Wekstatt pro Tag.\n",
    "Die Tabelle/Das Dataframe habe ich so formatiert, dass jede Werkstatt eine Zeile für jeden Tag hat. Die Variable, die vorhergesagt werden soll, ist also der Wert in der Spalte \"HU\".\n",
    "\n",
    "<h4>Visaulisierungen der HUs</h4>\n",
    "Die Namen der Unterbüros sind aus Datenschutzgründen nicht sichtbar.\n"
   ]
  },
  {
   "cell_type": "markdown",
   "metadata": {},
   "source": [
    "![Screenshot](images/Screenshot%202024-12-01%20153845.png)\n",
    "![Screenshot](images/Screenshot%202024-12-01%20174931.png)\n",
    "![Screenshot](images/Screenshot%202024-12-01%20175012.png)\n",
    "![Screenshot](images/Screenshot%202024-12-01%20175019.png)\n",
    "![Screenshot](images/Screenshot%202024-12-01%20175027.png)\n"
   ]
  },
  {
   "cell_type": "markdown",
   "metadata": {},
   "source": [
    "<h4> Liste der Predictor Variablen </h4>\n",
    "Ich nutze das \"Date\" aus den Datenpunkten, um daraus den Wochentag, den Tag im Monat und den Monat zu berechnen.\n",
    "Ich nutze die Datenpunkte der letzten Tage, um durchschnittswerte der HUs zu berechnen (rolling mean).\n",
    "Ich habe alle Tage markiert, die Feiertage oder Schulferien sind.\n",
    "\n",
    "Eine vollständige Liste der Predictor Variablen sind in der Tabelle unten.\n",
    "\n",
    "<h4> Modell </h4>\n",
    "Bei meinem Projekt handelt es sich um Zeitreihenanalyse (Regression mit Zeitreihenmerkmalen)\n",
    "Ich nutze Gradient Boosting Modelle (XGBoost und LightGBM)"
   ]
  },
  {
   "cell_type": "markdown",
   "metadata": {},
   "source": [
    "## Data dictionary\n",
    "\n",
    "*Create a data dictionary for all the variables in your data set. You may fill out the data description table or create your own table with Pandas:*\n",
    "\n",
    "<br>\n",
    "\n",
    "\n",
    "| Name  |   Description\t| Role   \t| Type   \t|  Format \t|\n",
    "|---\t|---\t        |---    \t|---\t    |---\t|\n",
    "|   HU\t|   Anzahl der HUs\t   |   \tresponse    |   numeric\t    |  int \t|\n",
    "|   Unterbüro\t|   \tID des Unterbüros        |   \tpredictor    |   \tnominal    |  string \t|\n",
    "|   day\t|   Tag des Monats |   \tpredictor    |   numeric\t    |   int\t|\n",
    "| month | Monat des Jahres | predictor | numeric | int |\n",
    "| weekday | Wochentag | predictor | numeric | int |\n",
    "| is_holiday | ist dieser Tag ein Schulferientag? | predictor| nominal  | Boolean\n",
    "| is_feiertag | ist an diesem Tag ein Feiertag? | predictor | nominal | Boolean\n",
    "| mean_last_3 | Mean Wert der HUs der letzten 3 Tage | predictor | numeric | float\n",
    "| mean_last_7 | Mean Wert der HUs der letzten 7 Tage | predictor | numeric | float\n",
    "| mean_last_14 | Mean Wert der HUs der letzten 14 Tage | predictor | numeric | float\n",
    "\n",
    "<br>\n",
    "\n",
    "- `Role`: response, predictor, ID (ID columns are not used in a model but can help to better understand the data)\n",
    "\n",
    "- `Type`: nominal, ordinal or numeric\n",
    "\n",
    "- `Format`: int, float, string, category, date or object"
   ]
  },
  {
   "cell_type": "code",
   "execution_count": 2,
   "metadata": {},
   "outputs": [
    {
     "ename": "InvalidNotebook",
     "evalue": "missing attachment: Screenshot%202024-12-01%20153845.png",
     "output_type": "error",
     "traceback": [
      "\u001b[1;31m---------------------------------------------------------------------------\u001b[0m",
      "\u001b[1;31mInvalidNotebook\u001b[0m                           Traceback (most recent call last)",
      "Cell \u001b[1;32mIn[2], line 16\u001b[0m\n\u001b[0;32m     13\u001b[0m html_exporter \u001b[38;5;241m=\u001b[39m HTMLExporter()\n\u001b[0;32m     15\u001b[0m \u001b[38;5;66;03m# Notebook in HTML konvertieren\u001b[39;00m\n\u001b[1;32m---> 16\u001b[0m (body, resources) \u001b[38;5;241m=\u001b[39m \u001b[43mhtml_exporter\u001b[49m\u001b[38;5;241;43m.\u001b[39;49m\u001b[43mfrom_notebook_node\u001b[49m\u001b[43m(\u001b[49m\u001b[43mnotebook_content\u001b[49m\u001b[43m)\u001b[49m\n\u001b[0;32m     18\u001b[0m \u001b[38;5;66;03m# HTML-Datei speichern\u001b[39;00m\n\u001b[0;32m     19\u001b[0m \u001b[38;5;28;01mwith\u001b[39;00m \u001b[38;5;28mopen\u001b[39m(output_path, \u001b[38;5;124m\"\u001b[39m\u001b[38;5;124mw\u001b[39m\u001b[38;5;124m\"\u001b[39m, encoding\u001b[38;5;241m=\u001b[39m\u001b[38;5;124m\"\u001b[39m\u001b[38;5;124mutf-8\u001b[39m\u001b[38;5;124m\"\u001b[39m) \u001b[38;5;28;01mas\u001b[39;00m html_file:\n",
      "File \u001b[1;32mc:\\Users\\mario\\anaconda3\\envs\\analytics\\Lib\\site-packages\\nbconvert\\exporters\\html.py:268\u001b[0m, in \u001b[0;36mHTMLExporter.from_notebook_node\u001b[1;34m(self, nb, resources, **kw)\u001b[0m\n\u001b[0;32m    266\u001b[0m \u001b[38;5;28mself\u001b[39m\u001b[38;5;241m.\u001b[39mregister_filter(\u001b[38;5;124m\"\u001b[39m\u001b[38;5;124mhighlight_code\u001b[39m\u001b[38;5;124m\"\u001b[39m, highlight_code)\n\u001b[0;32m    267\u001b[0m \u001b[38;5;28mself\u001b[39m\u001b[38;5;241m.\u001b[39mregister_filter(\u001b[38;5;124m\"\u001b[39m\u001b[38;5;124mfilter_data_type\u001b[39m\u001b[38;5;124m\"\u001b[39m, filter_data_type)\n\u001b[1;32m--> 268\u001b[0m html, resources \u001b[38;5;241m=\u001b[39m \u001b[38;5;28;43msuper\u001b[39;49m\u001b[43m(\u001b[49m\u001b[43m)\u001b[49m\u001b[38;5;241;43m.\u001b[39;49m\u001b[43mfrom_notebook_node\u001b[49m\u001b[43m(\u001b[49m\u001b[43mnb\u001b[49m\u001b[43m,\u001b[49m\u001b[43m \u001b[49m\u001b[43mresources\u001b[49m\u001b[43m,\u001b[49m\u001b[43m \u001b[49m\u001b[38;5;241;43m*\u001b[39;49m\u001b[38;5;241;43m*\u001b[39;49m\u001b[43mkw\u001b[49m\u001b[43m)\u001b[49m\n\u001b[0;32m    269\u001b[0m soup \u001b[38;5;241m=\u001b[39m BeautifulSoup(html, features\u001b[38;5;241m=\u001b[39m\u001b[38;5;124m\"\u001b[39m\u001b[38;5;124mhtml.parser\u001b[39m\u001b[38;5;124m\"\u001b[39m)\n\u001b[0;32m    270\u001b[0m \u001b[38;5;66;03m# Add image's alternative text\u001b[39;00m\n",
      "File \u001b[1;32mc:\\Users\\mario\\anaconda3\\envs\\analytics\\Lib\\site-packages\\nbconvert\\exporters\\templateexporter.py:424\u001b[0m, in \u001b[0;36mTemplateExporter.from_notebook_node\u001b[1;34m(self, nb, resources, **kw)\u001b[0m\n\u001b[0;32m    410\u001b[0m resources[\u001b[38;5;124m\"\u001b[39m\u001b[38;5;124mglobal_content_filter\u001b[39m\u001b[38;5;124m\"\u001b[39m] \u001b[38;5;241m=\u001b[39m {\n\u001b[0;32m    411\u001b[0m     \u001b[38;5;124m\"\u001b[39m\u001b[38;5;124minclude_code\u001b[39m\u001b[38;5;124m\"\u001b[39m: \u001b[38;5;129;01mnot\u001b[39;00m \u001b[38;5;28mself\u001b[39m\u001b[38;5;241m.\u001b[39mexclude_code_cell,\n\u001b[0;32m    412\u001b[0m     \u001b[38;5;124m\"\u001b[39m\u001b[38;5;124minclude_markdown\u001b[39m\u001b[38;5;124m\"\u001b[39m: \u001b[38;5;129;01mnot\u001b[39;00m \u001b[38;5;28mself\u001b[39m\u001b[38;5;241m.\u001b[39mexclude_markdown,\n\u001b[1;32m   (...)\u001b[0m\n\u001b[0;32m    420\u001b[0m     \u001b[38;5;124m\"\u001b[39m\u001b[38;5;124mno_prompt\u001b[39m\u001b[38;5;124m\"\u001b[39m: \u001b[38;5;28mself\u001b[39m\u001b[38;5;241m.\u001b[39mexclude_input_prompt \u001b[38;5;129;01mand\u001b[39;00m \u001b[38;5;28mself\u001b[39m\u001b[38;5;241m.\u001b[39mexclude_output_prompt,\n\u001b[0;32m    421\u001b[0m }\n\u001b[0;32m    423\u001b[0m \u001b[38;5;66;03m# Top level variables are passed to the template_exporter here.\u001b[39;00m\n\u001b[1;32m--> 424\u001b[0m output \u001b[38;5;241m=\u001b[39m \u001b[38;5;28;43mself\u001b[39;49m\u001b[38;5;241;43m.\u001b[39;49m\u001b[43mtemplate\u001b[49m\u001b[38;5;241;43m.\u001b[39;49m\u001b[43mrender\u001b[49m\u001b[43m(\u001b[49m\u001b[43mnb\u001b[49m\u001b[38;5;241;43m=\u001b[39;49m\u001b[43mnb_copy\u001b[49m\u001b[43m,\u001b[49m\u001b[43m \u001b[49m\u001b[43mresources\u001b[49m\u001b[38;5;241;43m=\u001b[39;49m\u001b[43mresources\u001b[49m\u001b[43m)\u001b[49m\n\u001b[0;32m    425\u001b[0m output \u001b[38;5;241m=\u001b[39m output\u001b[38;5;241m.\u001b[39mlstrip(\u001b[38;5;124m\"\u001b[39m\u001b[38;5;130;01m\\r\u001b[39;00m\u001b[38;5;130;01m\\n\u001b[39;00m\u001b[38;5;124m\"\u001b[39m)\n\u001b[0;32m    426\u001b[0m \u001b[38;5;28;01mreturn\u001b[39;00m output, resources\n",
      "File \u001b[1;32mc:\\Users\\mario\\anaconda3\\envs\\analytics\\Lib\\site-packages\\jinja2\\environment.py:1304\u001b[0m, in \u001b[0;36mTemplate.render\u001b[1;34m(self, *args, **kwargs)\u001b[0m\n\u001b[0;32m   1302\u001b[0m     \u001b[38;5;28;01mreturn\u001b[39;00m \u001b[38;5;28mself\u001b[39m\u001b[38;5;241m.\u001b[39menvironment\u001b[38;5;241m.\u001b[39mconcat(\u001b[38;5;28mself\u001b[39m\u001b[38;5;241m.\u001b[39mroot_render_func(ctx))  \u001b[38;5;66;03m# type: ignore\u001b[39;00m\n\u001b[0;32m   1303\u001b[0m \u001b[38;5;28;01mexcept\u001b[39;00m \u001b[38;5;167;01mException\u001b[39;00m:\n\u001b[1;32m-> 1304\u001b[0m     \u001b[38;5;28;43mself\u001b[39;49m\u001b[38;5;241;43m.\u001b[39;49m\u001b[43menvironment\u001b[49m\u001b[38;5;241;43m.\u001b[39;49m\u001b[43mhandle_exception\u001b[49m\u001b[43m(\u001b[49m\u001b[43m)\u001b[49m\n",
      "File \u001b[1;32mc:\\Users\\mario\\anaconda3\\envs\\analytics\\Lib\\site-packages\\jinja2\\environment.py:939\u001b[0m, in \u001b[0;36mEnvironment.handle_exception\u001b[1;34m(self, source)\u001b[0m\n\u001b[0;32m    934\u001b[0m \u001b[38;5;250m\u001b[39m\u001b[38;5;124;03m\"\"\"Exception handling helper.  This is used internally to either raise\u001b[39;00m\n\u001b[0;32m    935\u001b[0m \u001b[38;5;124;03mrewritten exceptions or return a rendered traceback for the template.\u001b[39;00m\n\u001b[0;32m    936\u001b[0m \u001b[38;5;124;03m\"\"\"\u001b[39;00m\n\u001b[0;32m    937\u001b[0m \u001b[38;5;28;01mfrom\u001b[39;00m \u001b[38;5;21;01m.\u001b[39;00m\u001b[38;5;21;01mdebug\u001b[39;00m \u001b[38;5;28;01mimport\u001b[39;00m rewrite_traceback_stack\n\u001b[1;32m--> 939\u001b[0m \u001b[38;5;28;01mraise\u001b[39;00m rewrite_traceback_stack(source\u001b[38;5;241m=\u001b[39msource)\n",
      "File \u001b[1;32mc:\\Users\\mario\\anaconda3\\envs\\analytics\\share\\jupyter\\nbconvert\\templates\\lab\\index.html.j2:4\u001b[0m, in \u001b[0;36mtop-level template code\u001b[1;34m()\u001b[0m\n\u001b[0;32m      2\u001b[0m {% from 'mathjax.html.j2' import mathjax %}\n\u001b[0;32m      3\u001b[0m {% from 'mermaidjs.html.j2' import mermaid_js %}\n\u001b[1;32m----> 4\u001b[0m {% from 'jupyter_widgets.html.j2' import jupyter_widgets %}\n\u001b[0;32m      5\u001b[0m \n\u001b[0;32m      6\u001b[0m {%- block header -%}\n",
      "File \u001b[1;32mc:\\Users\\mario\\anaconda3\\envs\\analytics\\share\\jupyter\\nbconvert\\templates\\lab\\base.html.j2:3\u001b[0m, in \u001b[0;36mtop-level template code\u001b[1;34m()\u001b[0m\n\u001b[0;32m      1\u001b[0m {%- extends 'display_priority.j2' -%}\n\u001b[0;32m      2\u001b[0m {% from 'celltags.j2' import celltags %}\n\u001b[1;32m----> 3\u001b[0m {% from 'cell_id_anchor.j2' import cell_id_anchor %}\n\u001b[0;32m      4\u001b[0m \n\u001b[0;32m      5\u001b[0m {% block codecell %}\n",
      "File \u001b[1;32mc:\\Users\\mario\\anaconda3\\envs\\analytics\\share\\jupyter\\nbconvert\\templates\\base\\display_priority.j2:1\u001b[0m, in \u001b[0;36mtop-level template code\u001b[1;34m()\u001b[0m\n\u001b[1;32m----> 1\u001b[0m {%- extends 'base/null.j2' -%}\n\u001b[0;32m      2\u001b[0m \n\u001b[0;32m      3\u001b[0m {#display data priority#}\n",
      "File \u001b[1;32mc:\\Users\\mario\\anaconda3\\envs\\analytics\\share\\jupyter\\nbconvert\\templates\\base\\null.j2:26\u001b[0m, in \u001b[0;36mtop-level template code\u001b[1;34m()\u001b[0m\n\u001b[0;32m     24\u001b[0m {%- block header -%}\n\u001b[0;32m     25\u001b[0m {%- endblock header -%}\n\u001b[1;32m---> 26\u001b[0m {%- block body -%}\n\u001b[0;32m     27\u001b[0m     {%- block body_header -%}\n\u001b[0;32m     28\u001b[0m     {%- endblock body_header -%}\n",
      "File \u001b[1;32mc:\\Users\\mario\\anaconda3\\envs\\analytics\\share\\jupyter\\nbconvert\\templates\\base\\null.j2:29\u001b[0m, in \u001b[0;36mblock 'body'\u001b[1;34m()\u001b[0m\n\u001b[0;32m     27\u001b[0m {%- block body_header -%}\n\u001b[0;32m     28\u001b[0m {%- endblock body_header -%}\n\u001b[1;32m---> 29\u001b[0m {%- block body_loop -%}\n\u001b[0;32m     30\u001b[0m     {%- for cell in nb.cells -%}\n\u001b[0;32m     31\u001b[0m         {%- block any_cell scoped -%}\n",
      "File \u001b[1;32mc:\\Users\\mario\\anaconda3\\envs\\analytics\\share\\jupyter\\nbconvert\\templates\\base\\null.j2:31\u001b[0m, in \u001b[0;36mblock 'body_loop'\u001b[1;34m()\u001b[0m\n\u001b[0;32m     29\u001b[0m {%- block body_loop -%}\n\u001b[0;32m     30\u001b[0m     {%- for cell in nb.cells -%}\n\u001b[1;32m---> 31\u001b[0m         {%- block any_cell scoped -%}\n\u001b[0;32m     32\u001b[0m             {%- if cell.cell_type == 'code'-%}\n\u001b[0;32m     33\u001b[0m                 {%- if resources.global_content_filter.include_code -%}\n",
      "File \u001b[1;32mc:\\Users\\mario\\anaconda3\\envs\\analytics\\share\\jupyter\\nbconvert\\templates\\base\\null.j2:87\u001b[0m, in \u001b[0;36mblock 'any_cell'\u001b[1;34m()\u001b[0m\n\u001b[0;32m     85\u001b[0m {%- elif cell.cell_type in ['markdown'] -%}\n\u001b[0;32m     86\u001b[0m     {%- if resources.global_content_filter.include_markdown and not cell.metadata.get(\"transient\",{}).get(\"remove_source\", false) -%}\n\u001b[1;32m---> 87\u001b[0m         {%- block markdowncell scoped-%} {%- endblock markdowncell -%}\n\u001b[0;32m     88\u001b[0m     {%- endif -%}\n\u001b[0;32m     89\u001b[0m {%- elif cell.cell_type in ['raw'] -%}\n",
      "File \u001b[1;32mc:\\Users\\mario\\anaconda3\\envs\\analytics\\share\\jupyter\\nbconvert\\templates\\lab\\base.html.j2:109\u001b[0m, in \u001b[0;36mblock 'markdowncell'\u001b[1;34m()\u001b[0m\n\u001b[0;32m    107\u001b[0m {%- set html_value=cell.source  | markdown2html | strip_files_prefix | clean_html -%}\n\u001b[0;32m    108\u001b[0m {%- else %}\n\u001b[1;32m--> 109\u001b[0m {%- set html_value=cell.source  | markdown2html | strip_files_prefix -%}\n\u001b[0;32m    110\u001b[0m {%- endif %}\n\u001b[0;32m    111\u001b[0m {{ html_value }}\n",
      "File \u001b[1;32mc:\\Users\\mario\\anaconda3\\envs\\analytics\\Lib\\site-packages\\nbconvert\\exporters\\html.py:243\u001b[0m, in \u001b[0;36mHTMLExporter.markdown2html\u001b[1;34m(self, context, source)\u001b[0m\n\u001b[0;32m    233\u001b[0m path \u001b[38;5;241m=\u001b[39m context\u001b[38;5;241m.\u001b[39mget(\u001b[38;5;124m\"\u001b[39m\u001b[38;5;124mresources\u001b[39m\u001b[38;5;124m\"\u001b[39m, {})\u001b[38;5;241m.\u001b[39mget(\u001b[38;5;124m\"\u001b[39m\u001b[38;5;124mmetadata\u001b[39m\u001b[38;5;124m\"\u001b[39m, {})\u001b[38;5;241m.\u001b[39mget(\u001b[38;5;124m\"\u001b[39m\u001b[38;5;124mpath\u001b[39m\u001b[38;5;124m\"\u001b[39m, \u001b[38;5;124m\"\u001b[39m\u001b[38;5;124m\"\u001b[39m)\n\u001b[0;32m    235\u001b[0m renderer \u001b[38;5;241m=\u001b[39m IPythonRenderer(\n\u001b[0;32m    236\u001b[0m     escape\u001b[38;5;241m=\u001b[39m\u001b[38;5;28;01mFalse\u001b[39;00m,\n\u001b[0;32m    237\u001b[0m     attachments\u001b[38;5;241m=\u001b[39mattachments,\n\u001b[1;32m   (...)\u001b[0m\n\u001b[0;32m    241\u001b[0m     exclude_anchor_links\u001b[38;5;241m=\u001b[39m\u001b[38;5;28mself\u001b[39m\u001b[38;5;241m.\u001b[39mexclude_anchor_links,\n\u001b[0;32m    242\u001b[0m )\n\u001b[1;32m--> 243\u001b[0m \u001b[38;5;28;01mreturn\u001b[39;00m \u001b[43mMarkdownWithMath\u001b[49m\u001b[43m(\u001b[49m\u001b[43mrenderer\u001b[49m\u001b[38;5;241;43m=\u001b[39;49m\u001b[43mrenderer\u001b[49m\u001b[43m)\u001b[49m\u001b[38;5;241;43m.\u001b[39;49m\u001b[43mrender\u001b[49m\u001b[43m(\u001b[49m\u001b[43msource\u001b[49m\u001b[43m)\u001b[49m\n",
      "File \u001b[1;32mc:\\Users\\mario\\anaconda3\\envs\\analytics\\Lib\\site-packages\\nbconvert\\filters\\markdown_mistune.py:484\u001b[0m, in \u001b[0;36mMarkdownWithMath.render\u001b[1;34m(self, source)\u001b[0m\n\u001b[0;32m    482\u001b[0m \u001b[38;5;28;01mdef\u001b[39;00m \u001b[38;5;21mrender\u001b[39m(\u001b[38;5;28mself\u001b[39m, source: \u001b[38;5;28mstr\u001b[39m) \u001b[38;5;241m-\u001b[39m\u001b[38;5;241m>\u001b[39m \u001b[38;5;28mstr\u001b[39m:\n\u001b[0;32m    483\u001b[0m \u001b[38;5;250m    \u001b[39m\u001b[38;5;124;03m\"\"\"Render the HTML output for a Markdown source.\"\"\"\u001b[39;00m\n\u001b[1;32m--> 484\u001b[0m     \u001b[38;5;28;01mreturn\u001b[39;00m \u001b[38;5;28mstr\u001b[39m(\u001b[38;5;28;43msuper\u001b[39;49m\u001b[43m(\u001b[49m\u001b[43m)\u001b[49m\u001b[38;5;241;43m.\u001b[39;49m\u001b[38;5;21;43m__call__\u001b[39;49m\u001b[43m(\u001b[49m\u001b[43msource\u001b[49m\u001b[43m)\u001b[49m)\n",
      "File \u001b[1;32mc:\\Users\\mario\\anaconda3\\envs\\analytics\\Lib\\site-packages\\mistune\\markdown.py:110\u001b[0m, in \u001b[0;36mMarkdown.__call__\u001b[1;34m(self, s)\u001b[0m\n\u001b[0;32m    108\u001b[0m \u001b[38;5;28;01mif\u001b[39;00m s \u001b[38;5;129;01mis\u001b[39;00m \u001b[38;5;28;01mNone\u001b[39;00m:\n\u001b[0;32m    109\u001b[0m     s \u001b[38;5;241m=\u001b[39m \u001b[38;5;124m'\u001b[39m\u001b[38;5;130;01m\\n\u001b[39;00m\u001b[38;5;124m'\u001b[39m\n\u001b[1;32m--> 110\u001b[0m \u001b[38;5;28;01mreturn\u001b[39;00m \u001b[38;5;28;43mself\u001b[39;49m\u001b[38;5;241;43m.\u001b[39;49m\u001b[43mparse\u001b[49m\u001b[43m(\u001b[49m\u001b[43ms\u001b[49m\u001b[43m)\u001b[49m[\u001b[38;5;241m0\u001b[39m]\n",
      "File \u001b[1;32mc:\\Users\\mario\\anaconda3\\envs\\analytics\\Lib\\site-packages\\mistune\\markdown.py:90\u001b[0m, in \u001b[0;36mMarkdown.parse\u001b[1;34m(self, s, state)\u001b[0m\n\u001b[0;32m     87\u001b[0m \u001b[38;5;28;01mfor\u001b[39;00m hook \u001b[38;5;129;01min\u001b[39;00m \u001b[38;5;28mself\u001b[39m\u001b[38;5;241m.\u001b[39mbefore_render_hooks:\n\u001b[0;32m     88\u001b[0m     hook(\u001b[38;5;28mself\u001b[39m, state)\n\u001b[1;32m---> 90\u001b[0m result \u001b[38;5;241m=\u001b[39m \u001b[38;5;28;43mself\u001b[39;49m\u001b[38;5;241;43m.\u001b[39;49m\u001b[43mrender_state\u001b[49m\u001b[43m(\u001b[49m\u001b[43mstate\u001b[49m\u001b[43m)\u001b[49m\n\u001b[0;32m     92\u001b[0m \u001b[38;5;28;01mfor\u001b[39;00m hook \u001b[38;5;129;01min\u001b[39;00m \u001b[38;5;28mself\u001b[39m\u001b[38;5;241m.\u001b[39mafter_render_hooks:\n\u001b[0;32m     93\u001b[0m     result \u001b[38;5;241m=\u001b[39m hook(\u001b[38;5;28mself\u001b[39m, result, state)\n",
      "File \u001b[1;32mc:\\Users\\mario\\anaconda3\\envs\\analytics\\Lib\\site-packages\\mistune\\markdown.py:48\u001b[0m, in \u001b[0;36mMarkdown.render_state\u001b[1;34m(self, state)\u001b[0m\n\u001b[0;32m     46\u001b[0m data \u001b[38;5;241m=\u001b[39m \u001b[38;5;28mself\u001b[39m\u001b[38;5;241m.\u001b[39m_iter_render(state\u001b[38;5;241m.\u001b[39mtokens, state)\n\u001b[0;32m     47\u001b[0m \u001b[38;5;28;01mif\u001b[39;00m \u001b[38;5;28mself\u001b[39m\u001b[38;5;241m.\u001b[39mrenderer:\n\u001b[1;32m---> 48\u001b[0m     \u001b[38;5;28;01mreturn\u001b[39;00m \u001b[38;5;28;43mself\u001b[39;49m\u001b[38;5;241;43m.\u001b[39;49m\u001b[43mrenderer\u001b[49m\u001b[43m(\u001b[49m\u001b[43mdata\u001b[49m\u001b[43m,\u001b[49m\u001b[43m \u001b[49m\u001b[43mstate\u001b[49m\u001b[43m)\u001b[49m\n\u001b[0;32m     49\u001b[0m \u001b[38;5;28;01mreturn\u001b[39;00m \u001b[38;5;28mlist\u001b[39m(data)\n",
      "File \u001b[1;32mc:\\Users\\mario\\anaconda3\\envs\\analytics\\Lib\\site-packages\\mistune\\core.py:209\u001b[0m, in \u001b[0;36mBaseRenderer.__call__\u001b[1;34m(self, tokens, state)\u001b[0m\n\u001b[0;32m    208\u001b[0m \u001b[38;5;28;01mdef\u001b[39;00m \u001b[38;5;21m__call__\u001b[39m(\u001b[38;5;28mself\u001b[39m, tokens, state):\n\u001b[1;32m--> 209\u001b[0m     \u001b[38;5;28;01mreturn\u001b[39;00m \u001b[38;5;28;43mself\u001b[39;49m\u001b[38;5;241;43m.\u001b[39;49m\u001b[43mrender_tokens\u001b[49m\u001b[43m(\u001b[49m\u001b[43mtokens\u001b[49m\u001b[43m,\u001b[49m\u001b[43m \u001b[49m\u001b[43mstate\u001b[49m\u001b[43m)\u001b[49m\n",
      "File \u001b[1;32mc:\\Users\\mario\\anaconda3\\envs\\analytics\\Lib\\site-packages\\mistune\\core.py:206\u001b[0m, in \u001b[0;36mBaseRenderer.render_tokens\u001b[1;34m(self, tokens, state)\u001b[0m\n\u001b[0;32m    205\u001b[0m \u001b[38;5;28;01mdef\u001b[39;00m \u001b[38;5;21mrender_tokens\u001b[39m(\u001b[38;5;28mself\u001b[39m, tokens, state):\n\u001b[1;32m--> 206\u001b[0m     \u001b[38;5;28;01mreturn\u001b[39;00m \u001b[38;5;124;43m'\u001b[39;49m\u001b[38;5;124;43m'\u001b[39;49m\u001b[38;5;241;43m.\u001b[39;49m\u001b[43mjoin\u001b[49m\u001b[43m(\u001b[49m\u001b[38;5;28;43mself\u001b[39;49m\u001b[38;5;241;43m.\u001b[39;49m\u001b[43miter_tokens\u001b[49m\u001b[43m(\u001b[49m\u001b[43mtokens\u001b[49m\u001b[43m,\u001b[49m\u001b[43m \u001b[49m\u001b[43mstate\u001b[49m\u001b[43m)\u001b[49m\u001b[43m)\u001b[49m\n",
      "File \u001b[1;32mc:\\Users\\mario\\anaconda3\\envs\\analytics\\Lib\\site-packages\\mistune\\core.py:203\u001b[0m, in \u001b[0;36mBaseRenderer.iter_tokens\u001b[1;34m(self, tokens, state)\u001b[0m\n\u001b[0;32m    201\u001b[0m \u001b[38;5;28;01mdef\u001b[39;00m \u001b[38;5;21miter_tokens\u001b[39m(\u001b[38;5;28mself\u001b[39m, tokens, state):\n\u001b[0;32m    202\u001b[0m     \u001b[38;5;28;01mfor\u001b[39;00m tok \u001b[38;5;129;01min\u001b[39;00m tokens:\n\u001b[1;32m--> 203\u001b[0m         \u001b[38;5;28;01myield\u001b[39;00m \u001b[38;5;28;43mself\u001b[39;49m\u001b[38;5;241;43m.\u001b[39;49m\u001b[43mrender_token\u001b[49m\u001b[43m(\u001b[49m\u001b[43mtok\u001b[49m\u001b[43m,\u001b[49m\u001b[43m \u001b[49m\u001b[43mstate\u001b[49m\u001b[43m)\u001b[49m\n",
      "File \u001b[1;32mc:\\Users\\mario\\anaconda3\\envs\\analytics\\Lib\\site-packages\\mistune\\renderers\\html.py:34\u001b[0m, in \u001b[0;36mHTMLRenderer.render_token\u001b[1;34m(self, token, state)\u001b[0m\n\u001b[0;32m     32\u001b[0m     text \u001b[38;5;241m=\u001b[39m token[\u001b[38;5;124m'\u001b[39m\u001b[38;5;124mraw\u001b[39m\u001b[38;5;124m'\u001b[39m]\n\u001b[0;32m     33\u001b[0m \u001b[38;5;28;01melif\u001b[39;00m \u001b[38;5;124m'\u001b[39m\u001b[38;5;124mchildren\u001b[39m\u001b[38;5;124m'\u001b[39m \u001b[38;5;129;01min\u001b[39;00m token:\n\u001b[1;32m---> 34\u001b[0m     text \u001b[38;5;241m=\u001b[39m \u001b[38;5;28;43mself\u001b[39;49m\u001b[38;5;241;43m.\u001b[39;49m\u001b[43mrender_tokens\u001b[49m\u001b[43m(\u001b[49m\u001b[43mtoken\u001b[49m\u001b[43m[\u001b[49m\u001b[38;5;124;43m'\u001b[39;49m\u001b[38;5;124;43mchildren\u001b[39;49m\u001b[38;5;124;43m'\u001b[39;49m\u001b[43m]\u001b[49m\u001b[43m,\u001b[49m\u001b[43m \u001b[49m\u001b[43mstate\u001b[49m\u001b[43m)\u001b[49m\n\u001b[0;32m     35\u001b[0m \u001b[38;5;28;01melse\u001b[39;00m:\n\u001b[0;32m     36\u001b[0m     \u001b[38;5;28;01mif\u001b[39;00m attrs:\n",
      "File \u001b[1;32mc:\\Users\\mario\\anaconda3\\envs\\analytics\\Lib\\site-packages\\mistune\\core.py:206\u001b[0m, in \u001b[0;36mBaseRenderer.render_tokens\u001b[1;34m(self, tokens, state)\u001b[0m\n\u001b[0;32m    205\u001b[0m \u001b[38;5;28;01mdef\u001b[39;00m \u001b[38;5;21mrender_tokens\u001b[39m(\u001b[38;5;28mself\u001b[39m, tokens, state):\n\u001b[1;32m--> 206\u001b[0m     \u001b[38;5;28;01mreturn\u001b[39;00m \u001b[38;5;124;43m'\u001b[39;49m\u001b[38;5;124;43m'\u001b[39;49m\u001b[38;5;241;43m.\u001b[39;49m\u001b[43mjoin\u001b[49m\u001b[43m(\u001b[49m\u001b[38;5;28;43mself\u001b[39;49m\u001b[38;5;241;43m.\u001b[39;49m\u001b[43miter_tokens\u001b[49m\u001b[43m(\u001b[49m\u001b[43mtokens\u001b[49m\u001b[43m,\u001b[49m\u001b[43m \u001b[49m\u001b[43mstate\u001b[49m\u001b[43m)\u001b[49m\u001b[43m)\u001b[49m\n",
      "File \u001b[1;32mc:\\Users\\mario\\anaconda3\\envs\\analytics\\Lib\\site-packages\\mistune\\core.py:203\u001b[0m, in \u001b[0;36mBaseRenderer.iter_tokens\u001b[1;34m(self, tokens, state)\u001b[0m\n\u001b[0;32m    201\u001b[0m \u001b[38;5;28;01mdef\u001b[39;00m \u001b[38;5;21miter_tokens\u001b[39m(\u001b[38;5;28mself\u001b[39m, tokens, state):\n\u001b[0;32m    202\u001b[0m     \u001b[38;5;28;01mfor\u001b[39;00m tok \u001b[38;5;129;01min\u001b[39;00m tokens:\n\u001b[1;32m--> 203\u001b[0m         \u001b[38;5;28;01myield\u001b[39;00m \u001b[38;5;28;43mself\u001b[39;49m\u001b[38;5;241;43m.\u001b[39;49m\u001b[43mrender_token\u001b[49m\u001b[43m(\u001b[49m\u001b[43mtok\u001b[49m\u001b[43m,\u001b[49m\u001b[43m \u001b[49m\u001b[43mstate\u001b[49m\u001b[43m)\u001b[49m\n",
      "File \u001b[1;32mc:\\Users\\mario\\anaconda3\\envs\\analytics\\Lib\\site-packages\\mistune\\renderers\\html.py:41\u001b[0m, in \u001b[0;36mHTMLRenderer.render_token\u001b[1;34m(self, token, state)\u001b[0m\n\u001b[0;32m     39\u001b[0m         \u001b[38;5;28;01mreturn\u001b[39;00m func()\n\u001b[0;32m     40\u001b[0m \u001b[38;5;28;01mif\u001b[39;00m attrs:\n\u001b[1;32m---> 41\u001b[0m     \u001b[38;5;28;01mreturn\u001b[39;00m \u001b[43mfunc\u001b[49m\u001b[43m(\u001b[49m\u001b[43mtext\u001b[49m\u001b[43m,\u001b[49m\u001b[43m \u001b[49m\u001b[38;5;241;43m*\u001b[39;49m\u001b[38;5;241;43m*\u001b[39;49m\u001b[43mattrs\u001b[49m\u001b[43m)\u001b[49m\n\u001b[0;32m     42\u001b[0m \u001b[38;5;28;01melse\u001b[39;00m:\n\u001b[0;32m     43\u001b[0m     \u001b[38;5;28;01mreturn\u001b[39;00m func(text)\n",
      "File \u001b[1;32mc:\\Users\\mario\\anaconda3\\envs\\analytics\\Lib\\site-packages\\nbconvert\\filters\\markdown_mistune.py:373\u001b[0m, in \u001b[0;36mIPythonRenderer.image\u001b[1;34m(self, text, url, title)\u001b[0m\n\u001b[0;32m    363\u001b[0m \u001b[38;5;250m\u001b[39m\u001b[38;5;124;03m\"\"\"Rendering a image with title and text.\u001b[39;00m\n\u001b[0;32m    364\u001b[0m \n\u001b[0;32m    365\u001b[0m \u001b[38;5;124;03m:param text: alt text of the image.\u001b[39;00m\n\u001b[1;32m   (...)\u001b[0m\n\u001b[0;32m    370\u001b[0m \u001b[38;5;124;03m    of mistune.\u001b[39;00m\n\u001b[0;32m    371\u001b[0m \u001b[38;5;124;03m\"\"\"\u001b[39;00m\n\u001b[0;32m    372\u001b[0m \u001b[38;5;28;01mif\u001b[39;00m MISTUNE_V3:\n\u001b[1;32m--> 373\u001b[0m     url \u001b[38;5;241m=\u001b[39m \u001b[38;5;28;43mself\u001b[39;49m\u001b[38;5;241;43m.\u001b[39;49m\u001b[43m_embed_image_or_attachment\u001b[49m\u001b[43m(\u001b[49m\u001b[43murl\u001b[49m\u001b[43m)\u001b[49m\n\u001b[0;32m    374\u001b[0m \u001b[38;5;28;01melse\u001b[39;00m:  \u001b[38;5;66;03m# for mistune v2, the first argument is the URL\u001b[39;00m\n\u001b[0;32m    375\u001b[0m     text \u001b[38;5;241m=\u001b[39m \u001b[38;5;28mself\u001b[39m\u001b[38;5;241m.\u001b[39m_embed_image_or_attachment(text)\n",
      "File \u001b[1;32mc:\\Users\\mario\\anaconda3\\envs\\analytics\\Lib\\site-packages\\nbconvert\\filters\\markdown_mistune.py:390\u001b[0m, in \u001b[0;36mIPythonRenderer._embed_image_or_attachment\u001b[1;34m(self, src)\u001b[0m\n\u001b[0;32m    388\u001b[0m \u001b[38;5;28;01mif\u001b[39;00m name \u001b[38;5;129;01mnot\u001b[39;00m \u001b[38;5;129;01min\u001b[39;00m \u001b[38;5;28mself\u001b[39m\u001b[38;5;241m.\u001b[39mattachments:\n\u001b[0;32m    389\u001b[0m     msg \u001b[38;5;241m=\u001b[39m \u001b[38;5;124mf\u001b[39m\u001b[38;5;124m\"\u001b[39m\u001b[38;5;124mmissing attachment: \u001b[39m\u001b[38;5;132;01m{\u001b[39;00mname\u001b[38;5;132;01m}\u001b[39;00m\u001b[38;5;124m\"\u001b[39m\n\u001b[1;32m--> 390\u001b[0m     \u001b[38;5;28;01mraise\u001b[39;00m InvalidNotebook(msg)\n\u001b[0;32m    392\u001b[0m attachment \u001b[38;5;241m=\u001b[39m \u001b[38;5;28mself\u001b[39m\u001b[38;5;241m.\u001b[39mattachments[name]\n\u001b[0;32m    393\u001b[0m \u001b[38;5;66;03m# we choose vector over raster, and lossless over lossy\u001b[39;00m\n",
      "\u001b[1;31mInvalidNotebook\u001b[0m: missing attachment: Screenshot%202024-12-01%20153845.png"
     ]
    }
   ],
   "source": [
    "import nbformat\n",
    "from nbconvert import HTMLExporter\n",
    "\n",
    "# Pfad zum Jupyter Notebook\n",
    "notebook_path = r\"C:\\Users\\mario\\OneDrive\\Desktop\\Data-Analytics-Kurs\\Data-Analytics\\references\\project-proposal.ipynb\"\n",
    "output_path = r\"C:\\Users\\mario\\OneDrive\\Desktop\\Data-Analytics-Kurs\\Data-Analytics\\references\\projekt-proposal.html\"\n",
    "\n",
    "# Notebook laden\n",
    "with open(notebook_path, \"r\", encoding=\"utf-8\") as nb_file:\n",
    "    notebook_content = nbformat.read(nb_file, as_version=4)\n",
    "\n",
    "# HTML Exporter initialisieren\n",
    "html_exporter = HTMLExporter()\n",
    "\n",
    "# Notebook in HTML konvertieren\n",
    "(body, resources) = html_exporter.from_notebook_node(notebook_content)\n",
    "\n",
    "# HTML-Datei speichern\n",
    "with open(output_path, \"w\", encoding=\"utf-8\") as html_file:\n",
    "    html_file.write(body)"
   ]
  }
 ],
 "metadata": {
  "kernelspec": {
   "display_name": "analytics",
   "language": "python",
   "name": "python3"
  },
  "language_info": {
   "codemirror_mode": {
    "name": "ipython",
    "version": 3
   },
   "file_extension": ".py",
   "mimetype": "text/x-python",
   "name": "python",
   "nbconvert_exporter": "python",
   "pygments_lexer": "ipython3",
   "version": "3.12.7"
  },
  "orig_nbformat": 4
 },
 "nbformat": 4,
 "nbformat_minor": 2
}
